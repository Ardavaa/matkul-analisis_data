{
 "cells": [
  {
   "cell_type": "code",
   "execution_count": 16,
   "id": "d3c461a0",
   "metadata": {},
   "outputs": [],
   "source": [
    "from scipy.stats import norm, t\n",
    "import numpy as np"
   ]
  },
  {
   "cell_type": "markdown",
   "id": "d794e9fa",
   "metadata": {},
   "source": [
    "### Selang kepercayaan untuk u, \\sigma diketahui"
   ]
  },
  {
   "cell_type": "markdown",
   "id": "33fde09b",
   "metadata": {},
   "source": [
    "Contoh 1 : Rataan nilai matematika dari 36 orang mahasiswa sarjana  adalah 2.6.  \n",
    "Hitung selang kepercayaan 95% dan 99% untuk rataan nilai matematika semua \n",
    "mahasiswa tingkat sarjana. Anggap bahwa simpangan baku populasinya 0.3"
   ]
  },
  {
   "cell_type": "code",
   "execution_count": null,
   "id": "f9978da5",
   "metadata": {},
   "outputs": [
    {
     "name": "stdout",
     "output_type": "stream",
     "text": [
      "Selang kepercayaan 95%: 2.5020018007729976 < u < 2.6979981992270026\n"
     ]
    }
   ],
   "source": [
    "# 95% for confidence interval\n",
    "confidence_interval_ = 0.95\n",
    "alpha = 1-confidence_interval_\n",
    "x = 2.6\n",
    "std = 0.3\n",
    "n = 36\n",
    "\n",
    "# nilai z-score dari tabel normal\n",
    "z_score = norm.ppf(1-alpha/2) # Z_alpha/2\n",
    "\n",
    "result_lower = x - z_score * (0.3/np.sqrt(n))\n",
    "result_upper = x + z_score * (0.3/np.sqrt(n))\n",
    "\n",
    "print(f'Selang kepercayaan 95%: {result_lower} < u < {result_upper}')"
   ]
  },
  {
   "cell_type": "code",
   "execution_count": 14,
   "id": "add648ec",
   "metadata": {},
   "outputs": [
    {
     "name": "stdout",
     "output_type": "stream",
     "text": [
      "Selang kepercayaan 99%: 2.471208534822555 < u < 2.728791465177445\n"
     ]
    }
   ],
   "source": [
    "# 99% for confidence interval\n",
    "confidence_interval_ = 0.99\n",
    "alpha = 1-confidence_interval_\n",
    "x = 2.6\n",
    "std = 0.3\n",
    "n = 36\n",
    "\n",
    "z_score = norm.ppf(1-alpha/2) # Z_alpha/2\n",
    "\n",
    "result_lower = x - z_score * (0.3/np.sqrt(n))\n",
    "result_upper = x + z_score * (0.3/np.sqrt(n))\n",
    "\n",
    "print(f'Selang kepercayaan 99%: {result_lower} < u < {result_upper}')"
   ]
  },
  {
   "cell_type": "markdown",
   "id": "1c5ddc08",
   "metadata": {},
   "source": [
    "### Selang kepercayaan untuk u, \\sigma tidak diketahui"
   ]
  },
  {
   "cell_type": "markdown",
   "id": "1c9ba984",
   "metadata": {},
   "source": [
    "Contoh 1:\n",
    "Tujuh botol yang mirip masing-masing berisi asam sulfat  9.8 , 10.2, 10.4 , 9.8, 10.0, 10.2, dan 9.6 liter . Carilah selang kepercayaan 95% untuk rataan isi \n",
    "botol semacam ini jika distribusinya dianggap hamper normal"
   ]
  },
  {
   "cell_type": "code",
   "execution_count": null,
   "id": "85e8f00c",
   "metadata": {},
   "outputs": [
    {
     "name": "stdout",
     "output_type": "stream",
     "text": [
      "Standar deviasi: 0.28284271247461884\n",
      "Hasil T_score 2.4469118511449692\n",
      "Selang kepercayaan 95%: 9.738414119925107 < u < 10.261585880074893\n"
     ]
    }
   ],
   "source": [
    "data = [9.8, 10.2, 10.4, 9.8, 10.0, 10.2, 9.6]\n",
    "\n",
    "n = len(data) # banyak data\n",
    "confidence_interval = 0.95\n",
    "alpha = 1 - confidence_interval\n",
    "derajat_kebebasan = len(data) - 1 # derajat kebebasan --> n - 1\n",
    "\n",
    "X = np.mean(data) # rata-rata jadi 10\n",
    "S = np.std(data, ddof=1) # deviasi standar sampel jadi 0.3\n",
    "\n",
    "t_score = t.ppf(1-alpha/2, derajat_kebebasan) # T_alpha/2\n",
    "\n",
    "result_lower = X - t_score * (S/np.sqrt(n))\n",
    "result_upper = X + t_score * (S/np.sqrt(n))\n",
    "\n",
    "print(f'Standar deviasi: {S}')\n",
    "print(f'Hasil T_score {t_score}')\n",
    "print(f'Selang kepercayaan 95%: {result_lower} < u < {result_upper}')"
   ]
  }
 ],
 "metadata": {
  "kernelspec": {
   "display_name": "vsc",
   "language": "python",
   "name": "python3"
  },
  "language_info": {
   "codemirror_mode": {
    "name": "ipython",
    "version": 3
   },
   "file_extension": ".py",
   "mimetype": "text/x-python",
   "name": "python",
   "nbconvert_exporter": "python",
   "pygments_lexer": "ipython3",
   "version": "3.11.9"
  }
 },
 "nbformat": 4,
 "nbformat_minor": 5
}
