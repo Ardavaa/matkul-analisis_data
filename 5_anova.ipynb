{
 "cells": [
  {
   "cell_type": "code",
   "execution_count": 1,
   "id": "0b331745",
   "metadata": {},
   "outputs": [],
   "source": [
    "import numpy as np\n",
    "from scipy.stats import f_oneway"
   ]
  },
  {
   "cell_type": "markdown",
   "id": "540b64b4",
   "metadata": {},
   "source": [
    "**Soal Latihan 1**: <br>\n",
    "Empat merk ban mobil sedang dipertimbangkan untuk di pakai dalam pr oduksi mobil. \n",
    "\n",
    "Keempat ban tersebut dibandingkan berdasarkan masa pakai (jam) di jalanan yang kasar. Masingmasing merk ban di ambil sampel sebanyak 5, dan menghasilkan data berikut ini:"
   ]
  },
  {
   "cell_type": "code",
   "execution_count": 2,
   "id": "e570a229",
   "metadata": {},
   "outputs": [
    {
     "name": "stdout",
     "output_type": "stream",
     "text": [
      "F_onewayResult(statistic=0.5436745135660345, pvalue=0.6593762308136547)\n",
      "Terima H0\n"
     ]
    }
   ],
   "source": [
    "a = [175, 169, 158, 186, 164]\n",
    "b = [192, 177, 154, 203, 157]\n",
    "c = [178, 189, 146, 167, 208]\n",
    "d = [189, 175, 192, 165, 205]\n",
    "\n",
    "alpha = 0.05\n",
    "\n",
    "result = f_oneway(a,b,c,d)\n",
    "print(result)\n",
    "\n",
    "if result.pvalue < alpha:\n",
    "    print('Tolak H0')\n",
    "else:\n",
    "    print('Terima H0')"
   ]
  },
  {
   "cell_type": "code",
   "execution_count": 5,
   "id": "cf939165",
   "metadata": {},
   "outputs": [
    {
     "name": "stdout",
     "output_type": "stream",
     "text": [
      "F-hitung: 1.3238\n",
      "F-tabel: 3.2389\n",
      "Terima H0 (Tidak ada perbedaan signifikan)\n"
     ]
    }
   ],
   "source": [
    "from scipy.stats import f\n",
    "\n",
    "# Degrees of freedom\n",
    "df_between = 4 - 1  # Jumlah kelompok - 1\n",
    "df_within = (4 * (5 - 1))  # Total observasi - jumlah kelompok\n",
    "\n",
    "# Nilai F-tabel (F-kritis)\n",
    "f_tabel = f.ppf(1 - alpha, df_between, df_within)\n",
    "\n",
    "# F-hitung dari hasil f_oneway\n",
    "f_hitung = result.statistic\n",
    "\n",
    "print(f\"F-hitung: {f_hitung:.4f}\")\n",
    "print(f\"F-tabel: {f_tabel:.4f}\")\n",
    "\n",
    "if f_hitung > f_tabel:\n",
    "    print(\"Tolak H0 (Ada perbedaan signifikan)\")\n",
    "    print(f\"Karena F-hitung ({f_hitung:.4f}) > F-tabel ({f_tabel:.4f})\")\n",
    "else:\n",
    "    print(\"Terima H0 (Tidak ada perbedaan signifikan)\")"
   ]
  },
  {
   "cell_type": "markdown",
   "id": "40d715f0",
   "metadata": {},
   "source": [
    "**Soal Latihan 2**: <br>\n",
    "Suatu penelitian dilakukan untuk mengetahui apakah terdapat pengaruh perbedaan kartu kredit terhadap penggunaannya. Data di bawah ini adalah jumlah uang yang dibelanjakan ibu rumah tangga menggunakan kartu kredit(dalam $). Empat jenis kartu kredit dibandingkan"
   ]
  },
  {
   "cell_type": "code",
   "execution_count": 3,
   "id": "9f71de38",
   "metadata": {},
   "outputs": [
    {
     "name": "stdout",
     "output_type": "stream",
     "text": [
      "F_onewayResult(statistic=1.3238397008186258, pvalue=0.3036301465160724)\n",
      "Terima H0\n"
     ]
    }
   ],
   "source": [
    "blue = [1144, 1887, 1088, 1350, 1441]\n",
    "silver = [1171, 1538, 1028, 1336, 1207]\n",
    "gold = [816, 1330, 2015, 1818, 1319]\n",
    "platinum = [1293, 1612, 3014, 1509]\n",
    "\n",
    "alpha = 0.05\n",
    "\n",
    "result = f_oneway(blue, silver, gold, platinum)\n",
    "print(result)\n",
    "\n",
    "if result.pvalue < alpha:\n",
    "    print('Tolak H0')\n",
    "else:\n",
    "    print('Terima H0')"
   ]
  }
 ],
 "metadata": {
  "kernelspec": {
   "display_name": "vsc",
   "language": "python",
   "name": "python3"
  },
  "language_info": {
   "codemirror_mode": {
    "name": "ipython",
    "version": 3
   },
   "file_extension": ".py",
   "mimetype": "text/x-python",
   "name": "python",
   "nbconvert_exporter": "python",
   "pygments_lexer": "ipython3",
   "version": "3.11.9"
  }
 },
 "nbformat": 4,
 "nbformat_minor": 5
}
