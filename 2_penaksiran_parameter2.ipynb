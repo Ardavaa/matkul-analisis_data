{
 "cells": [
  {
   "cell_type": "markdown",
   "id": "f367809a",
   "metadata": {},
   "source": [
    "## Penaksiran Parameter untuk 2 populasi"
   ]
  },
  {
   "cell_type": "code",
   "execution_count": 1,
   "id": "caf82fbf",
   "metadata": {},
   "outputs": [],
   "source": [
    "from scipy.stats import norm, t\n",
    "from scipy.stats import chi2\n",
    "import numpy as np\n",
    "import latexify"
   ]
  },
  {
   "cell_type": "markdown",
   "id": "276cab3e",
   "metadata": {},
   "source": [
    "### Selang kepercayaan untuk u1-u2, \\sigma_1{^2} dan \\sigma_2{^2} diketahui\n",
    "Contoh :  Ujian CLO 2 mata kuliah  Teori Peluang dikerjakan oleh 50 orang mahasiswi dan 75 mahasiswa. Nilai rata-rata mahasiswi adalah 76, sementara mahasiswa mendapatkan nilai rata-rata 82.  Carilah selang kepercayaan 96% untuk selisih 𝜇_1−𝜇_2, bila 𝜇_1 menyatakan rataan semua semua mahasiswa, dan 𝜇_2 menyatakan rataan semua semua mahasiswi. Anggap simpangan baku populasi mahasiswa 8, simpangan baku nilai mahasiswi 6."
   ]
  },
  {
   "cell_type": "code",
   "execution_count": 2,
   "id": "0611b0e3",
   "metadata": {},
   "outputs": [
    {
     "name": "stdout",
     "output_type": "stream",
     "text": [
      "Selang kepercayaan 96%: 3.4239296557877803 < u1 - u2 < 8.57607034421222\n"
     ]
    }
   ],
   "source": [
    "n1, n2 = 75, 50\n",
    "X1, X2 = 82, 76\n",
    "sigma_1, sigma_2 = 8, 6\n",
    "confidence_interval = 0.96\n",
    "alpha = 1 - confidence_interval\n",
    "\n",
    "# z score\n",
    "z_score = norm.ppf(1-alpha/2)\n",
    "\n",
    "result_lower = (X1 - X2) - z_score * np.sqrt((sigma_1**2/n1) + sigma_2**2/n2)\n",
    "result_upper = (X1 - X2) + z_score * np.sqrt((sigma_1**2/n1) + sigma_2**2/n2)\n",
    "\n",
    "print(f'Selang kepercayaan {int(confidence_interval*100)}%: {result_lower} < u1 - u2 < {result_upper}')"
   ]
  },
  {
   "cell_type": "markdown",
   "id": "fb5ca36e",
   "metadata": {},
   "source": [
    "### Selang kepercayaan untuk 𝝁_𝟏−𝝁_𝟐, dengan \\sigma_1{^2} dan \\sigma_2{^2} tidak diketahui dan diasumsikan sama"
   ]
  },
  {
   "cell_type": "markdown",
   "id": "c8b9f6ae",
   "metadata": {},
   "source": [
    "Formula S^2_Gab (Pooled variance)"
   ]
  },
  {
   "cell_type": "code",
   "execution_count": 3,
   "id": "f9ce2ce6",
   "metadata": {},
   "outputs": [
    {
     "data": {
      "text/latex": [
       "$$ \\displaystyle v(\\mathrm{s1}, \\mathrm{s2}, \\mathrm{n1}, \\mathrm{n2}) = \\frac{\\mathopen{}\\left( \\mathrm{n1} - 1 \\mathclose{}\\right) \\mathrm{s1}^{2} + \\mathopen{}\\left( \\mathrm{n2} - 1 \\mathclose{}\\right) \\mathrm{s2}^{2}}{\\mathrm{n1} + \\mathrm{n2} - 2} $$"
      ],
      "text/plain": [
       "<latexify.ipython_wrappers.LatexifiedFunction at 0x1f2561de5d0>"
      ]
     },
     "execution_count": 3,
     "metadata": {},
     "output_type": "execute_result"
    }
   ],
   "source": [
    "@latexify.function(identifiers={'s2_gab': 'v'}, argument_names=False)\n",
    "def s2_gab(s1, s2, n1, n2):\n",
    "    return ((n1 - 1) * s1**2 + (n2 - 1) * s2**2) / (n1 + n2 - 2)\n",
    "\n",
    "s2_gab"
   ]
  },
  {
   "cell_type": "markdown",
   "id": "333cc2ae",
   "metadata": {},
   "source": [
    "Formula derajat kebebasan (v)"
   ]
  },
  {
   "cell_type": "code",
   "execution_count": 4,
   "id": "805b65f8",
   "metadata": {},
   "outputs": [],
   "source": [
    "def v(na, nb): return na + nb -2"
   ]
  },
  {
   "cell_type": "markdown",
   "id": "0398633f",
   "metadata": {},
   "source": [
    "Contoh:\n",
    "\n",
    "Dua buah perusahaan yang saling bersaing dalam industri kertas karton saling mengklaim bahwa produknya yang lebih baik, dalam artian lebih kuat menahan beban. untuk mengetahui produk mana yang sebenarnya lebih baik, dilakukan pengambilan data masing-masing sebanyak 10 lembar, dan diukur berapa beban yang mampu ditanggung tanpa merusak karton. datanya adalah :\n",
    "\n",
    "\n",
    "Persh. A = [30, 35, 50, 45, 60, 25, 45, 45, 50, 40] <br>\n",
    "Persh. B = [50, 60 , 55, 40, 65, 60, 65, 65, 50, 55]\n",
    "\n",
    "apabila diasumsikan σ1 dan σ2 sama, maka\n",
    "- Dugalah beda kekuatan karton kedua perusahaan, \n",
    "- Buatlah selang kepercayaan 95%  dan 99% bagi beda kekuatan karton kedua perusahaan\n"
   ]
  },
  {
   "cell_type": "code",
   "execution_count": 5,
   "id": "50303e40",
   "metadata": {},
   "outputs": [
    {
     "name": "stdout",
     "output_type": "stream",
     "text": [
      "Pooled variance (s^2_gab) 86.94444444444444\n"
     ]
    }
   ],
   "source": [
    "# data\n",
    "persh_a = [30, 35, 50, 45, 60, 25, 45, 45, 50, 40]\n",
    "persh_b = [50, 60 , 55, 40, 65, 60, 65, 65, 50, 55]\n",
    "\n",
    "# rata-rata\n",
    "X_a = np.mean(persh_a)\n",
    "X_b = np.mean(persh_b)\n",
    "\n",
    "# standar deviasi\n",
    "S_a = np.std(persh_a, ddof=1)\n",
    "S_b = np.std(persh_b, ddof=1)\n",
    "\n",
    "na, nb = len(persh_a), len(persh_b) # banyak data\n",
    "print(f'Pooled variance (s^2_gab) {s2_gab(S_a, S_b, na, nb)}')"
   ]
  },
  {
   "cell_type": "markdown",
   "id": "e937e867",
   "metadata": {},
   "source": [
    "- Dugalah beda kekuatan karton kedua perusahaan"
   ]
  },
  {
   "cell_type": "code",
   "execution_count": 6,
   "id": "f10954dd",
   "metadata": {},
   "outputs": [
    {
     "name": "stdout",
     "output_type": "stream",
     "text": [
      "Dugaan u_a - u_b adalah -14.0\n"
     ]
    }
   ],
   "source": [
    "print(f'Dugaan u_a - u_b adalah {X_a - X_b}')"
   ]
  },
  {
   "cell_type": "markdown",
   "id": "d34dedb9",
   "metadata": {},
   "source": [
    "- Selang kepercayaan 95%"
   ]
  },
  {
   "cell_type": "code",
   "execution_count": 7,
   "id": "3a227ccd",
   "metadata": {},
   "outputs": [
    {
     "name": "stdout",
     "output_type": "stream",
     "text": [
      "Selang kepercayaan 95%: -22.76084210881416 < u1 - u2 < -5.2391578911858385\n"
     ]
    }
   ],
   "source": [
    "confidence_interval = 0.95\n",
    "alpha = 1 - confidence_interval\n",
    "v_derajat_kebebasan = na+nb -2\n",
    "\n",
    "t_score = t.ppf(1-alpha/2, v_derajat_kebebasan)\n",
    "\n",
    "result_lower = (X_a-X_b) - t_score * np.sqrt(s2_gab(S_a, S_b, na, nb) * (1/na + 1/nb))\n",
    "result_upper = (X_a-X_b) + t_score * np.sqrt(s2_gab(S_a, S_b, na, nb) * (1/na + 1/nb))\n",
    "\n",
    "print(f'Selang kepercayaan {int(confidence_interval*100)}%: {result_lower} < u1 - u2 < {result_upper}')"
   ]
  },
  {
   "cell_type": "code",
   "execution_count": 8,
   "id": "9294e8cf",
   "metadata": {},
   "outputs": [
    {
     "data": {
      "text/plain": [
       "164.5"
      ]
     },
     "execution_count": 8,
     "metadata": {},
     "output_type": "execute_result"
    }
   ],
   "source": [
    "np.std(persh_a, ddof=1), np.std(persh_b, ddof=1)\n",
    "\n",
    "std_a = np.std(persh_a, ddof=1)\n",
    "std_b = np.std(persh_b, ddof=1)\n",
    "\n",
    "\n",
    "formula = (9 * std_a**2 +  9 * std_b**2) / 10 + 10 -2\n",
    "formula"
   ]
  },
  {
   "cell_type": "code",
   "execution_count": 9,
   "id": "56af7e14",
   "metadata": {},
   "outputs": [
    {
     "data": {
      "text/plain": [
       "86.94444444444444"
      ]
     },
     "execution_count": 9,
     "metadata": {},
     "output_type": "execute_result"
    }
   ],
   "source": [
    "s2_gab(std_a, std_b, 10, 10)"
   ]
  },
  {
   "cell_type": "markdown",
   "id": "1ad8239c",
   "metadata": {},
   "source": [
    "### Selang kepercayaan untuk 𝝁_𝟏−𝝁_𝟐, dengan \\sigma_1{^2} dan \\sigma_2{^2} tidak diketahui dan diasumsikan tidak sama"
   ]
  },
  {
   "cell_type": "markdown",
   "id": "739e9fb8",
   "metadata": {},
   "source": [
    "Formula derajat kebebasan (v)"
   ]
  },
  {
   "cell_type": "code",
   "execution_count": 10,
   "id": "9e7f53f2",
   "metadata": {},
   "outputs": [
    {
     "data": {
      "text/latex": [
       "$$ \\displaystyle v(\\mathrm{s1}, \\mathrm{s2}, \\mathrm{n1}, \\mathrm{n2}) = \\frac{\\mathopen{}\\left( \\frac{\\mathrm{s1}^{2}}{\\mathrm{n1}} + \\frac{\\mathrm{s2}^{2}}{\\mathrm{n2}} \\mathclose{}\\right)^{2}}{\\frac{\\mathopen{}\\left( \\frac{\\mathrm{s1}^{2}}{\\mathrm{n1}} \\mathclose{}\\right)^{2}}{\\mathrm{n1} - 1} + \\frac{\\mathopen{}\\left( \\frac{\\mathrm{s2}^{2}}{\\mathrm{n2}} \\mathclose{}\\right)^{2}}{\\mathrm{n2} - 1}} $$"
      ],
      "text/plain": [
       "<latexify.ipython_wrappers.LatexifiedFunction at 0x1f2563e3510>"
      ]
     },
     "execution_count": 10,
     "metadata": {},
     "output_type": "execute_result"
    }
   ],
   "source": [
    "@latexify.function(argument_names=False)\n",
    "def v(s1, s2, n1, n2):\n",
    "    return ((s1**2/n1 + s2**2/n2)**2) / (((s1**2/n1)**2/(n1-1)) + ((s2**2/n2)**2/(n2-1)))\n",
    "\n",
    "v"
   ]
  },
  {
   "cell_type": "markdown",
   "id": "f495cfa0",
   "metadata": {},
   "source": [
    "### **Soal Latihan**\n",
    "1. Sampel acak berukuran 𝑛_1 = 25 diambil dari populasi normal dengan \n",
    "Simpangan baku 𝜎_1=5, rataan 𝑥 ̅_1=80. Sampel kedua berukuran 𝑛_2 = 36,\n",
    "Diambil dari populasi normal yang berbeda dengan simpangan baku 𝜎_2=3, \n",
    "dan rataan 𝑥 ̅_2=75.  Buatlah selang kepercayaan 94% untuk 𝜇_1−𝜇_2     "
   ]
  },
  {
   "cell_type": "code",
   "execution_count": 11,
   "id": "bb2444da",
   "metadata": {},
   "outputs": [
    {
     "name": "stdout",
     "output_type": "stream",
     "text": [
      "Selang kepercayaan 94%: 2.89720882026335 < u1 - u2 < 7.10279117973665\n"
     ]
    }
   ],
   "source": [
    "n1, n2 = 25, 36\n",
    "sigma_1, sigma_2 = 5, 3\n",
    "X_1, X_2 = 80, 75\n",
    "\n",
    "confidence_interval = 0.94\n",
    "alpha = 1 - confidence_interval\n",
    "\n",
    "z_score = norm.ppf(1-alpha/2)\n",
    "\n",
    "result_lower =(X_1 - X_2) - z_score * np.sqrt(sigma_1**2/n1 + sigma_2**2/n2)\n",
    "result_upper =(X_1 - X_2) + z_score * np.sqrt(sigma_1**2/n1 + sigma_2**2/n2) \n",
    "\n",
    "print(f'Selang kepercayaan {int(confidence_interval*100)}%: {result_lower} < u1 - u2 < {result_upper}')"
   ]
  },
  {
   "cell_type": "markdown",
   "id": "989b5725",
   "metadata": {},
   "source": [
    "### Menaksir Variansi (Chi-Square)"
   ]
  },
  {
   "cell_type": "markdown",
   "id": "faf70380",
   "metadata": {},
   "source": [
    "Data berikut menyatakan berat (dalam gram) 10 bungkus bibit sayuran \n",
    "Yang dipasarkan oleh suatu perusahaan : 46.4 , 46.1, 45.8, 47.0, 46.1, \n",
    "45.9, 45.8, 46.9, 45.2, dan 46.0 . Carilah selang kepercayaan 95% \n",
    "Untuk variansi semua bungkusan bibit yang dipasarkan oleh perusahaan\n",
    "tersebut"
   ]
  },
  {
   "cell_type": "code",
   "execution_count": 40,
   "id": "bf2b2806",
   "metadata": {},
   "outputs": [
    {
     "name": "stdout",
     "output_type": "stream",
     "text": [
      "S^2: 0.2862222222222218\n",
      "Lower Chi-Score: 19.02276779864163\n",
      "Upper Chi-Score: 2.700389499980359\n",
      "\n",
      "Selang Kepercayaan 95%: 0.13541667686149975 < sigma^2 < 0.9539364599139246\n"
     ]
    }
   ],
   "source": [
    "data = [46.4 , 46.1, 45.8, 47.0, 46.1, 45.9, 45.8, 46.9, 45.2, 46.0]\n",
    "\n",
    "confidence_interval = 0.95\n",
    "alpha = 1-confidence_interval\n",
    "\n",
    "n = len(data)\n",
    "v = n - 1\n",
    "S_squared = np.std(data, ddof=1)**2\n",
    "\n",
    "chi2_lower = chi2.ppf(1-alpha/2, v)\n",
    "chi2_upper = chi2.ppf(alpha/2, v)\n",
    "\n",
    "lower = (n-1) * S_squared / chi2_lower\n",
    "upper = (n-1) * S_squared / chi2_upper\n",
    "\n",
    "print(f'S^2: {S_squared}')\n",
    "print(f'Lower Chi-Score: {chi2_lower}')\n",
    "print(f'Upper Chi-Score: {chi2_upper}')\n",
    "print()\n",
    "print(f\"Selang Kepercayaan 95%: {lower} < sigma^2 < {upper}\")"
   ]
  },
  {
   "cell_type": "code",
   "execution_count": 39,
   "id": "4d4ae35f",
   "metadata": {},
   "outputs": [
    {
     "data": {
      "text/plain": [
       "2.700389499980359"
      ]
     },
     "execution_count": 39,
     "metadata": {},
     "output_type": "execute_result"
    }
   ],
   "source": [
    "chi2_a"
   ]
  },
  {
   "cell_type": "code",
   "execution_count": null,
   "id": "cd18ea49",
   "metadata": {},
   "outputs": [],
   "source": []
  }
 ],
 "metadata": {
  "kernelspec": {
   "display_name": "vsc",
   "language": "python",
   "name": "python3"
  },
  "language_info": {
   "codemirror_mode": {
    "name": "ipython",
    "version": 3
   },
   "file_extension": ".py",
   "mimetype": "text/x-python",
   "name": "python",
   "nbconvert_exporter": "python",
   "pygments_lexer": "ipython3",
   "version": "3.11.9"
  }
 },
 "nbformat": 4,
 "nbformat_minor": 5
}
