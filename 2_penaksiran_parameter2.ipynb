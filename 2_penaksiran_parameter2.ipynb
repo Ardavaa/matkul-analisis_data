{
 "cells": [
  {
   "cell_type": "markdown",
   "id": "f367809a",
   "metadata": {},
   "source": [
    "## Penaksiran Parameter untuk 2 populasi"
   ]
  },
  {
   "cell_type": "code",
   "execution_count": 1,
   "id": "caf82fbf",
   "metadata": {},
   "outputs": [],
   "source": [
    "from scipy.stats import norm, t\n",
    "import numpy as np"
   ]
  },
  {
   "cell_type": "markdown",
   "id": "276cab3e",
   "metadata": {},
   "source": [
    "### Selang kepercayaan untuk u1-u2, \\sigma_1 dan \\sigma_2 diketahui\n",
    "Contoh :  Ujian CLO 2 mata kuliah  Teori Peluang dikerjakan oleh 50 orang mahasiswi dan 75 mahasiswa. Nilai rata-rata mahasiswi adalah 76, sementara mahasiswa mendapatkan nilai rata-rata 82.  Carilah selang kepercayaan 96% untuk selisih 𝜇_1−𝜇_2, bila 𝜇_1 menyatakan rataan semua semua mahasiswa, dan 𝜇_2 menyatakan rataan semua semua mahasiswi. Anggap simpangan baku populasi mahasiswa 8, simpangan baku nilai mahasiswi 6."
   ]
  },
  {
   "cell_type": "code",
   "execution_count": 3,
   "id": "0611b0e3",
   "metadata": {},
   "outputs": [
    {
     "name": "stdout",
     "output_type": "stream",
     "text": [
      "Selang kepercayaan 96%: 3.4239296557877803 < u < 8.57607034421222\n"
     ]
    }
   ],
   "source": [
    "n1, n2 = 75, 50\n",
    "X1, X2 = 82, 76\n",
    "sigma_1, sigma_2 = 8, 6\n",
    "confidence_interval = 0.96\n",
    "alpha = 1 - confidence_interval\n",
    "\n",
    "# z score\n",
    "z_score = norm.ppf(1-alpha/2)\n",
    "\n",
    "result_lower = (X1 - X2) - z_score * np.sqrt((sigma_1**2/n1) + sigma_2**2/n2)\n",
    "result_upper = (X1 - X2) + z_score * np.sqrt((sigma_1**2/n1) + sigma_2**2/n2)\n",
    "\n",
    "print(f'Selang kepercayaan {int(confidence_interval*100)}%: {result_lower} < u < {result_upper}')"
   ]
  }
 ],
 "metadata": {
  "kernelspec": {
   "display_name": "vsc",
   "language": "python",
   "name": "python3"
  },
  "language_info": {
   "codemirror_mode": {
    "name": "ipython",
    "version": 3
   },
   "file_extension": ".py",
   "mimetype": "text/x-python",
   "name": "python",
   "nbconvert_exporter": "python",
   "pygments_lexer": "ipython3",
   "version": "3.11.9"
  }
 },
 "nbformat": 4,
 "nbformat_minor": 5
}
