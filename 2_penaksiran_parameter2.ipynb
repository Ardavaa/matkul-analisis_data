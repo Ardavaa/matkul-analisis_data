{
 "cells": [
  {
   "cell_type": "markdown",
   "id": "f367809a",
   "metadata": {},
   "source": [
    "## Penaksiran Parameter untuk 2 populasi"
   ]
  },
  {
   "cell_type": "code",
   "execution_count": 1,
   "id": "caf82fbf",
   "metadata": {},
   "outputs": [],
   "source": [
    "from scipy.stats import norm, t\n",
    "import numpy as np"
   ]
  },
  {
   "cell_type": "markdown",
   "id": "276cab3e",
   "metadata": {},
   "source": [
    "### Selang kepercayaan untuk u1-u2, \\sigma_1{^2} dan \\sigma_2{^2} diketahui\n",
    "Contoh :  Ujian CLO 2 mata kuliah  Teori Peluang dikerjakan oleh 50 orang mahasiswi dan 75 mahasiswa. Nilai rata-rata mahasiswi adalah 76, sementara mahasiswa mendapatkan nilai rata-rata 82.  Carilah selang kepercayaan 96% untuk selisih 𝜇_1−𝜇_2, bila 𝜇_1 menyatakan rataan semua semua mahasiswa, dan 𝜇_2 menyatakan rataan semua semua mahasiswi. Anggap simpangan baku populasi mahasiswa 8, simpangan baku nilai mahasiswi 6."
   ]
  },
  {
   "cell_type": "code",
   "execution_count": 3,
   "id": "0611b0e3",
   "metadata": {},
   "outputs": [
    {
     "name": "stdout",
     "output_type": "stream",
     "text": [
      "Selang kepercayaan 96%: 3.4239296557877803 < u < 8.57607034421222\n"
     ]
    }
   ],
   "source": [
    "n1, n2 = 75, 50\n",
    "X1, X2 = 82, 76\n",
    "sigma_1, sigma_2 = 8, 6\n",
    "confidence_interval = 0.96\n",
    "alpha = 1 - confidence_interval\n",
    "\n",
    "# z score\n",
    "z_score = norm.ppf(1-alpha/2)\n",
    "\n",
    "result_lower = (X1 - X2) - z_score * np.sqrt((sigma_1**2/n1) + sigma_2**2/n2)\n",
    "result_upper = (X1 - X2) + z_score * np.sqrt((sigma_1**2/n1) + sigma_2**2/n2)\n",
    "\n",
    "print(f'Selang kepercayaan {int(confidence_interval*100)}%: {result_lower} < u < {result_upper}')"
   ]
  },
  {
   "cell_type": "markdown",
   "id": "fb5ca36e",
   "metadata": {},
   "source": [
    "### Selang kepercayaan untuk 𝝁_𝟏−𝝁_𝟐, dengan \\sigma_1{^2} dan \\sigma_2{^2} tidak diketahui dan diasumsikan sama"
   ]
  },
  {
   "cell_type": "markdown",
   "id": "c8b9f6ae",
   "metadata": {},
   "source": [
    "Formula S^2_Gab (Pooled variance)"
   ]
  },
  {
   "cell_type": "code",
   "execution_count": 5,
   "id": "f9ce2ce6",
   "metadata": {},
   "outputs": [],
   "source": [
    "def s2_gab(s1, s2, n1, n2):\n",
    "    pembilang = (n1 - 1) * s1**2 + (n2 - 1) * s2**2\n",
    "    penyebut = n1 + n2 -2\n",
    "    \n",
    "    return pembilang / penyebut"
   ]
  },
  {
   "cell_type": "markdown",
   "id": "333cc2ae",
   "metadata": {},
   "source": [
    "Formula derajat kebebasan (v)"
   ]
  },
  {
   "cell_type": "code",
   "execution_count": 23,
   "id": "805b65f8",
   "metadata": {},
   "outputs": [],
   "source": [
    "def v(na, nb): return na + nb -2"
   ]
  },
  {
   "cell_type": "markdown",
   "id": "0398633f",
   "metadata": {},
   "source": [
    "Contoh:\n",
    "\n",
    "Dua buah perusahaan yang saling bersaing dalam industri kertas karton saling mengklaim bahwa produknya yang lebih baik, dalam artian lebih kuat menahan beban. untuk mengetahui produk mana yang sebenarnya lebih baik, dilakukan pengambilan data masing-masing sebanyak 10 lembar, dan diukur berapa beban yang mampu ditanggung tanpa merusak karton. datanya adalah :\n",
    "\n",
    "\n",
    "Persh. A = [30, 35, 50, 45, 60, 25, 45, 45, 50, 40] <br>\n",
    "Persh. B = [50, 60 , 55, 40, 65, 60, 65, 65, 50, 55]\n",
    "\n",
    "apabila diasumsikan σ1 dan σ2 sama, maka\n",
    "- Dugalah beda kekuatan karton kedua perusahaan, \n",
    "- Buatlah selang kepercayaan 95%  dan 99% bagi beda kekuatan karton kedua perusahaan\n"
   ]
  },
  {
   "cell_type": "code",
   "execution_count": null,
   "id": "50303e40",
   "metadata": {},
   "outputs": [
    {
     "name": "stdout",
     "output_type": "stream",
     "text": [
      "Pooled variance (s^2_gab) 86.94444444444444\n"
     ]
    }
   ],
   "source": [
    "# data\n",
    "persh_a = [30, 35, 50, 45, 60, 25, 45, 45, 50, 40]\n",
    "persh_b = [50, 60 , 55, 40, 65, 60, 65, 65, 50, 55]\n",
    "\n",
    "# rata-rata\n",
    "X_a = np.mean(persh_a)\n",
    "X_b = np.mean(persh_b)\n",
    "\n",
    "# standar deviasi\n",
    "S_a = np.std(persh_a, ddof=1)\n",
    "S_b = np.std(persh_b, ddof=1)\n",
    "\n",
    "na, nb = len(persh_a), len(persh_b) # banyak data\n",
    "print(f'Pooled variance (s^2_gab) {s2_gab(S_a, S_b, na, nb)}')\n"
   ]
  },
  {
   "cell_type": "markdown",
   "id": "e937e867",
   "metadata": {},
   "source": [
    "- Dugalah beda kekuatan karton kedua perusahaan"
   ]
  },
  {
   "cell_type": "code",
   "execution_count": 15,
   "id": "f10954dd",
   "metadata": {},
   "outputs": [
    {
     "name": "stdout",
     "output_type": "stream",
     "text": [
      "Dugaan u_a - u_b adalah -14.0\n"
     ]
    }
   ],
   "source": [
    "print(f'Dugaan u_a - u_b adalah {X_a - X_b}')"
   ]
  },
  {
   "cell_type": "markdown",
   "id": "d34dedb9",
   "metadata": {},
   "source": [
    "- Selang kepercayaan 95%"
   ]
  },
  {
   "cell_type": "code",
   "execution_count": 22,
   "id": "3a227ccd",
   "metadata": {},
   "outputs": [
    {
     "name": "stdout",
     "output_type": "stream",
     "text": [
      "Selang kepercayaan 95%: -22.76084210881416 < u1 - u2 < -5.2391578911858385\n"
     ]
    }
   ],
   "source": [
    "confidence_interval = 0.95\n",
    "alpha = 1 - confidence_interval\n",
    "v_derajat_kebebasan = na+nb -2\n",
    "\n",
    "t_score = t.ppf(1-alpha/2, v_derajat_kebebasan)\n",
    "\n",
    "result_lower = (X_a-X_b) - t_score * np.sqrt(s2_gab(S_a, S_b, na, nb) * (1/na + 1/nb))\n",
    "result_upper = (X_a-X_b) + t_score * np.sqrt(s2_gab(S_a, S_b, na, nb) * (1/na + 1/nb))\n",
    "\n",
    "print(f'Selang kepercayaan {int(confidence_interval*100)}%: {result_lower} < u1 - u2 < {result_upper}')"
   ]
  }
 ],
 "metadata": {
  "kernelspec": {
   "display_name": "vsc",
   "language": "python",
   "name": "python3"
  },
  "language_info": {
   "codemirror_mode": {
    "name": "ipython",
    "version": 3
   },
   "file_extension": ".py",
   "mimetype": "text/x-python",
   "name": "python",
   "nbconvert_exporter": "python",
   "pygments_lexer": "ipython3",
   "version": "3.11.9"
  }
 },
 "nbformat": 4,
 "nbformat_minor": 5
}
