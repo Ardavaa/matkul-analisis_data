{
 "cells": [
  {
   "cell_type": "code",
   "execution_count": 7,
   "id": "0d660a64",
   "metadata": {},
   "outputs": [],
   "source": [
    "import numpy as np\n",
    "from scipy.stats import norm, t"
   ]
  },
  {
   "cell_type": "markdown",
   "id": "af005ae5",
   "metadata": {},
   "source": [
    "### Soal 1\n",
    "Diketahui nilai akhir MK statistika berdistribusi   normal. Tentukan selang kepercayaan 95% dan 99% untuk rataan populasi μ, apabila diambil sampel nilai dari 16 orang mahasiswa sbb :\n",
    "```bash\n",
    "data = [47, 50, 53, 65, 33, 67, 66, 50, 73, 54, 48, 47, 47, 67, 68, 60]\n",
    "```\n",
    "a. Apabila simpangan baku populasi diketahui σ = 15.254.\n"
   ]
  },
  {
   "cell_type": "code",
   "execution_count": 17,
   "id": "b0bf31b0",
   "metadata": {},
   "outputs": [
    {
     "name": "stdout",
     "output_type": "stream",
     "text": [
      "Z-score: 1.959963984540054\n",
      "Selang kepercayaan 95% 48.463177344956506 < u < 63.411822655043494\n"
     ]
    }
   ],
   "source": [
    "data = [47, 50, 53, 65, 33, 67, 66, 50, 73, 54, 48, 47, 47, 67, 68, 60]\n",
    "\n",
    "n = len(data)\n",
    "X = np.mean(data)\n",
    "\n",
    "sigma = 15.254\n",
    "confidence_interval = 0.95\n",
    "alpha = 1-confidence_interval\n",
    "\n",
    "z_score = norm.ppf(1-alpha/2)\n",
    "print(f'Z-score: {z_score}')\n",
    "\n",
    "lower = X-z_score * sigma/np.sqrt(n)\n",
    "uppper = X+z_score * sigma/np.sqrt(n)\n",
    "\n",
    "print(f\"Selang kepercayaan {int(confidence_interval*100)}% {lower} < u < {uppper}\")"
   ]
  },
  {
   "cell_type": "code",
   "execution_count": 26,
   "id": "11600340",
   "metadata": {},
   "outputs": [
    {
     "name": "stdout",
     "output_type": "stream",
     "text": [
      "Z-score: 2.5758293035489004\n",
      "Selang kepercayaan 99% 46.11457495091627 < u < 65.76042504908374\n"
     ]
    }
   ],
   "source": [
    "data = [47, 50, 53, 65, 33, 67, 66, 50, 73, 54, 48, 47, 47, 67, 68, 60]\n",
    "\n",
    "n = len(data)\n",
    "X = np.mean(data)\n",
    "\n",
    "sigma = 15.254\n",
    "confidence_interval = 0.99\n",
    "alpha = 1-confidence_interval\n",
    "\n",
    "z_score = norm.ppf(1-alpha/2)\n",
    "print(f'Z-score: {z_score}')\n",
    "\n",
    "lower = X-z_score * sigma/np.sqrt(n)\n",
    "uppper = X+z_score * sigma/np.sqrt(n)\n",
    "\n",
    "print(f\"Selang kepercayaan {int(confidence_interval*100)}% {lower} < u < {uppper}\")"
   ]
  },
  {
   "cell_type": "markdown",
   "id": "5655a0f6",
   "metadata": {},
   "source": [
    "b. Apabila simpangan baku populasi tidak diketahui. Nilai simpangan baku sampel perlu dihitung terlebih dahulu"
   ]
  },
  {
   "cell_type": "code",
   "execution_count": null,
   "id": "d32bb46b",
   "metadata": {},
   "outputs": [
    {
     "name": "stdout",
     "output_type": "stream",
     "text": [
      "t-score: 2.131449545559323\n",
      "Selang kepercayaan 95% 50.11174775422471 < u < 61.76325224577529\n"
     ]
    }
   ],
   "source": [
    "data = [47, 50, 53, 65, 33, 67, 66, 50, 73, 54, 48, 47, 47, 67, 68, 60]\n",
    "\n",
    "n = len(data)\n",
    "X = np.mean(data)\n",
    "S = np.std(data, ddof=1)\n",
    "\n",
    "confidence_interval = 0.95\n",
    "alpha = 1-confidence_interval\n",
    "v = n - 1 # derajat kebebasan\n",
    "\n",
    "t_score = t.ppf(1-alpha/2, v)\n",
    "print(f't-score: {t_score}')\n",
    "\n",
    "lower = X-t_score * S/np.sqrt(n)\n",
    "uppper = X+t_score * S/np.sqrt(n)\n",
    "\n",
    "print(f\"Selang kepercayaan {int(confidence_interval*100)}% {lower} < u < {uppper}\")"
   ]
  },
  {
   "cell_type": "code",
   "execution_count": null,
   "id": "38ea59a2",
   "metadata": {},
   "outputs": [
    {
     "name": "stdout",
     "output_type": "stream",
     "text": [
      "t-score: 2.9467128834859504\n",
      "Selang kepercayaan 99% 47.88344156151211 < u < 63.99155843848789\n"
     ]
    }
   ],
   "source": [
    "data = [47, 50, 53, 65, 33, 67, 66, 50, 73, 54, 48, 47, 47, 67, 68, 60]\n",
    "\n",
    "n = len(data)\n",
    "X = np.mean(data)\n",
    "S = np.std(data, ddof=1)\n",
    "\n",
    "confidence_interval = 0.99\n",
    "alpha = 1-confidence_interval\n",
    "v = n - 1 # derajat kebebasan\n",
    "\n",
    "t_score = t.ppf(1-alpha/2, v)\n",
    "print(f't-score: {t_score}')\n",
    "\n",
    "lower = X-t_score * S/np.sqrt(n)\n",
    "uppper = X+t_score * S/np.sqrt(n)\n",
    "\n",
    "print(f\"Selang kepercayaan {int(confidence_interval*100)}% {lower} < u < {uppper}\")"
   ]
  },
  {
   "cell_type": "markdown",
   "id": "7bd7afa0",
   "metadata": {},
   "source": [
    "### Soal 2\n",
    "Two kinds of thread are being compared for strength. Fifty pieces of each type of thread are tested under similar conditions. Brand A has an average tensile strength of 78.3 kilograms with a standard deviation of 5.6 kilograms, while brand B has an average tensile strength of 87.2 kilograms with a standard deviation of 6.3 kilograms. Construct a 95% confidence interval for the difference of the population means."
   ]
  },
  {
   "cell_type": "code",
   "execution_count": 33,
   "id": "2320d2d1",
   "metadata": {},
   "outputs": [
    {
     "name": "stdout",
     "output_type": "stream",
     "text": [
      "Z-score 1.959963984540054\n",
      "Selang kepercayaan 95% -11.236388876922328 < u1 - u2 < -6.563611123077683\n"
     ]
    }
   ],
   "source": [
    "na = 50\n",
    "nb = 50\n",
    "\n",
    "Xa = 78.3\n",
    "Xb = 87.2\n",
    "\n",
    "Sa = 5.6\n",
    "Sb = 6.3\n",
    "\n",
    "conf_interval = 0.95\n",
    "alpha = 1 - conf_interval\n",
    "\n",
    "z_score = norm.ppf(1-alpha/2)\n",
    "print(f'Z-score {z_score}')\n",
    "\n",
    "lower = (Xa-Xb) - z_score * (np.sqrt((Sa**2/na + Sb**2/nb)))\n",
    "upper = (Xa-Xb) + z_score * (np.sqrt((Sa**2/na + Sb**2/nb)))\n",
    "\n",
    "print(f\"Selang kepercayaan {int(conf_interval*100)}% {lower} < u1 - u2 < {upper}\")"
   ]
  }
 ],
 "metadata": {
  "kernelspec": {
   "display_name": "vsc",
   "language": "python",
   "name": "python3"
  },
  "language_info": {
   "codemirror_mode": {
    "name": "ipython",
    "version": 3
   },
   "file_extension": ".py",
   "mimetype": "text/x-python",
   "name": "python",
   "nbconvert_exporter": "python",
   "pygments_lexer": "ipython3",
   "version": "3.11.9"
  }
 },
 "nbformat": 4,
 "nbformat_minor": 5
}
