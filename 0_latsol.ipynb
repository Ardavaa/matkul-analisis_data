{
 "cells": [
  {
   "cell_type": "code",
   "execution_count": 11,
   "id": "0d660a64",
   "metadata": {},
   "outputs": [],
   "source": [
    "import numpy as np\n",
    "from scipy.stats import norm, t"
   ]
  },
  {
   "cell_type": "markdown",
   "id": "af005ae5",
   "metadata": {},
   "source": [
    "### Soal 1\n",
    "Diketahui nilai akhir MK statistika berdistribusi   normal. Tentukan selang kepercayaan 95% dan 99% untuk rataan populasi μ, apabila diambil sampel nilai dari 16 orang mahasiswa sbb :\n",
    "```bash\n",
    "data = [47, 50, 53, 65, 33, 67, 66, 50, 73, 54, 48, 47, 47, 67, 68, 60]\n",
    "```\n",
    "a. Apabila simpangan baku populasi diketahui σ = 15.254.\n"
   ]
  },
  {
   "cell_type": "code",
   "execution_count": 12,
   "id": "b0bf31b0",
   "metadata": {},
   "outputs": [
    {
     "name": "stdout",
     "output_type": "stream",
     "text": [
      "Z-score: 1.959963984540054\n",
      "Selang kepercayaan 95% 48.463177344956506 < u < 63.411822655043494\n"
     ]
    }
   ],
   "source": [
    "data = [47, 50, 53, 65, 33, 67, 66, 50, 73, 54, 48, 47, 47, 67, 68, 60]\n",
    "\n",
    "n = len(data)\n",
    "X = np.mean(data)\n",
    "\n",
    "sigma = 15.254\n",
    "confidence_interval = 0.95\n",
    "alpha = 1-confidence_interval\n",
    "\n",
    "z_score = norm.ppf(1-alpha/2)\n",
    "print(f'Z-score: {z_score}')\n",
    "\n",
    "lower = X-z_score * sigma/np.sqrt(n)\n",
    "uppper = X+z_score * sigma/np.sqrt(n)\n",
    "\n",
    "print(f\"Selang kepercayaan {int(confidence_interval*100)}% {lower} < u < {uppper}\")"
   ]
  },
  {
   "cell_type": "code",
   "execution_count": 13,
   "id": "11600340",
   "metadata": {},
   "outputs": [
    {
     "name": "stdout",
     "output_type": "stream",
     "text": [
      "Z-score: 2.5758293035489004\n",
      "Selang kepercayaan 99% 46.11457495091627 < u < 65.76042504908374\n"
     ]
    }
   ],
   "source": [
    "data = [47, 50, 53, 65, 33, 67, 66, 50, 73, 54, 48, 47, 47, 67, 68, 60]\n",
    "\n",
    "n = len(data)\n",
    "X = np.mean(data)\n",
    "\n",
    "sigma = 15.254\n",
    "confidence_interval = 0.99\n",
    "alpha = 1-confidence_interval\n",
    "\n",
    "z_score = norm.ppf(1-alpha/2)\n",
    "print(f'Z-score: {z_score}')\n",
    "\n",
    "lower = X-z_score * sigma/np.sqrt(n)\n",
    "uppper = X+z_score * sigma/np.sqrt(n)\n",
    "\n",
    "print(f\"Selang kepercayaan {int(confidence_interval*100)}% {lower} < u < {uppper}\")"
   ]
  },
  {
   "cell_type": "markdown",
   "id": "5655a0f6",
   "metadata": {},
   "source": [
    "b. Apabila simpangan baku populasi tidak diketahui. Nilai simpangan baku sampel perlu dihitung terlebih dahulu"
   ]
  },
  {
   "cell_type": "code",
   "execution_count": 14,
   "id": "d32bb46b",
   "metadata": {},
   "outputs": [
    {
     "name": "stdout",
     "output_type": "stream",
     "text": [
      "t-score: 2.131449545559323\n",
      "Selang kepercayaan 95% 50.11174775422471 < u < 61.76325224577529\n"
     ]
    }
   ],
   "source": [
    "data = [47, 50, 53, 65, 33, 67, 66, 50, 73, 54, 48, 47, 47, 67, 68, 60]\n",
    "\n",
    "n = len(data)\n",
    "X = np.mean(data)\n",
    "S = np.std(data, ddof=1)\n",
    "\n",
    "confidence_interval = 0.95\n",
    "alpha = 1-confidence_interval\n",
    "v = n - 1 # derajat kebebasan\n",
    "\n",
    "t_score = t.ppf(1-alpha/2, v)\n",
    "print(f't-score: {t_score}')\n",
    "\n",
    "lower = X-t_score * S/np.sqrt(n)\n",
    "uppper = X+t_score * S/np.sqrt(n)\n",
    "\n",
    "print(f\"Selang kepercayaan {int(confidence_interval*100)}% {lower} < u < {uppper}\")"
   ]
  },
  {
   "cell_type": "code",
   "execution_count": 15,
   "id": "38ea59a2",
   "metadata": {},
   "outputs": [
    {
     "name": "stdout",
     "output_type": "stream",
     "text": [
      "t-score: 2.9467128834859504\n",
      "Selang kepercayaan 99% 47.88344156151211 < u < 63.99155843848789\n"
     ]
    }
   ],
   "source": [
    "data = [47, 50, 53, 65, 33, 67, 66, 50, 73, 54, 48, 47, 47, 67, 68, 60]\n",
    "\n",
    "n = len(data)\n",
    "X = np.mean(data)\n",
    "S = np.std(data, ddof=1)\n",
    "\n",
    "confidence_interval = 0.99\n",
    "alpha = 1-confidence_interval\n",
    "v = n - 1 # derajat kebebasan\n",
    "\n",
    "t_score = t.ppf(1-alpha/2, v)\n",
    "print(f't-score: {t_score}')\n",
    "\n",
    "lower = X-t_score * S/np.sqrt(n)\n",
    "uppper = X+t_score * S/np.sqrt(n)\n",
    "\n",
    "print(f\"Selang kepercayaan {int(confidence_interval*100)}% {lower} < u < {uppper}\")"
   ]
  },
  {
   "cell_type": "markdown",
   "id": "7bd7afa0",
   "metadata": {},
   "source": [
    "### Soal 2\n",
    "Two kinds of thread are being compared for strength. Fifty pieces of each type of thread are tested under similar conditions. Brand A has an average tensile strength of 78.3 kilograms with a standard deviation of 5.6 kilograms, while brand B has an average tensile strength of 87.2 kilograms with a standard deviation of 6.3 kilograms. Construct a 95% confidence interval for the difference of the population means."
   ]
  },
  {
   "cell_type": "code",
   "execution_count": 16,
   "id": "2320d2d1",
   "metadata": {},
   "outputs": [
    {
     "name": "stdout",
     "output_type": "stream",
     "text": [
      "Z-score 1.959963984540054\n",
      "Selang kepercayaan 95% -11.236388876922328 < u1 - u2 < -6.563611123077683\n"
     ]
    }
   ],
   "source": [
    "na = 50\n",
    "nb = 50\n",
    "\n",
    "Xa = 78.3\n",
    "Xb = 87.2\n",
    "\n",
    "Sa = 5.6\n",
    "Sb = 6.3\n",
    "\n",
    "conf_interval = 0.95\n",
    "alpha = 1 - conf_interval\n",
    "\n",
    "z_score = norm.ppf(1-alpha/2)\n",
    "print(f'Z-score {z_score}')\n",
    "\n",
    "lower = (Xa-Xb) - z_score * (np.sqrt((Sa**2/na + Sb**2/nb)))\n",
    "upper = (Xa-Xb) + z_score * (np.sqrt((Sa**2/na + Sb**2/nb)))\n",
    "\n",
    "print(f\"Selang kepercayaan {int(conf_interval*100)}% {lower} < u1 - u2 < {upper}\")"
   ]
  },
  {
   "cell_type": "markdown",
   "id": "bd47eb47",
   "metadata": {},
   "source": [
    "### Soal 3\n",
    "In a study conducted at Virginia Tech on the development of ectomycorrhizal, a \n",
    "            symbiotic relationship between the roots of trees and a fungus, in which minerals are transferred from the fungus to the trees and sugars from the trees to the fungus, 20 northern red oak seedlings exposed to the fungus Pisolithus tinctorus were grown in a greenhouse. All seedlings were planted in the same type of soil and received the same amount of unshine and water. Half received no nitrogen at planting time, to serve as a control, and the other half received 368 ppm of nitrogen in the form NaNO3. The stem weights, in grams, at the end of 140 days were recorded as follows:\n",
    "```\n",
    "no_nitrogen = [0.32, 0.53, 0.28, 0.37, 0.47, 0.43, 0.36, 0.42, 0.38, 0.43]\n",
    "nitrogen =    [0.26, 0.43, 0.47, 0.49, 0.52, 0.75, 0.79, 0.86, 0.62, 0.46]\n",
    "```\n",
    "Construct a 95% confidence interval for the difference in the mean stem weight between seedlings that receive no nitrogen and those that receive 368 ppm of\n",
    "nitrogen. Assume the populations to be normally distributed with equal variances\n"
   ]
  },
  {
   "cell_type": "code",
   "execution_count": 21,
   "id": "184b729d",
   "metadata": {},
   "outputs": [
    {
     "data": {
      "text/plain": [
       "<function __main__.s2_gab(s1, s2, n1, n2)>"
      ]
     },
     "execution_count": 21,
     "metadata": {},
     "output_type": "execute_result"
    }
   ],
   "source": [
    "# @latexify.function(identifiers={'s2_gab': 'v'}, argument_names=False)\n",
    "def s2_gab(s1, s2, n1, n2):\n",
    "    return ((n1 - 1) * s1**2 + (n2 - 1) * s2**2) / (n1 + n2 - 2)\n",
    "\n",
    "s2_gab"
   ]
  },
  {
   "cell_type": "code",
   "execution_count": 30,
   "id": "4c70aad0",
   "metadata": {},
   "outputs": [
    {
     "data": {
      "text/plain": [
       "(-0.2991578760539037, -0.03284212394609648)"
      ]
     },
     "execution_count": 30,
     "metadata": {},
     "output_type": "execute_result"
    }
   ],
   "source": [
    "no_nitrogen = [0.32, 0.53, 0.28, 0.37, 0.47, 0.43, 0.36, 0.42, 0.38, 0.43]\n",
    "nitrogen =    [0.26, 0.43, 0.47, 0.49, 0.52, 0.75, 0.79, 0.86, 0.62, 0.46]\n",
    "\n",
    "Xa = np.mean(no_nitrogen)\n",
    "Xb = np.mean(nitrogen)\n",
    "\n",
    "Sa = np.std(no_nitrogen, ddof=1)\n",
    "Sb = np.std(nitrogen, ddof=1)\n",
    "\n",
    "na = len(no_nitrogen)\n",
    "nb = len(nitrogen)\n",
    "\n",
    "v = na + nb - 2\n",
    "\n",
    "s2 = ((na-1)*Sa**2 + (nb-1)*Sb**2) / (na + nb - 2)\n",
    "\n",
    "t_score = t.ppf(1-alpha/2, v)\n",
    "\n",
    "lower = (Xa-Xb) - t_score * np.sqrt(s2 * (1/na + 1/nb))\n",
    "upper = (Xa-Xb) + t_score * np.sqrt(s2 * (1/na + 1/nb))\n",
    "\n",
    "lower, upper"
   ]
  },
  {
   "cell_type": "code",
   "execution_count": 22,
   "id": "3fdb9d0d",
   "metadata": {},
   "outputs": [
    {
     "data": {
      "text/plain": [
       "0.020085555555555554"
      ]
     },
     "execution_count": 22,
     "metadata": {},
     "output_type": "execute_result"
    }
   ],
   "source": [
    "s2_gab(Sa, Sb, na, nb)"
   ]
  },
  {
   "cell_type": "code",
   "execution_count": 31,
   "id": "17c255d0",
   "metadata": {},
   "outputs": [
    {
     "data": {
      "text/plain": [
       "(0.0727934673503666, 0.18674105660572402)"
      ]
     },
     "execution_count": 31,
     "metadata": {},
     "output_type": "execute_result"
    }
   ],
   "source": [
    "Sa, Sb"
   ]
  },
  {
   "cell_type": "code",
   "execution_count": 38,
   "id": "9ae1b578",
   "metadata": {},
   "outputs": [
    {
     "data": {
      "text/plain": [
       "0.01989"
      ]
     },
     "execution_count": 38,
     "metadata": {},
     "output_type": "execute_result"
    }
   ],
   "source": [
    "a = (9*0.072**2+9*0.186**2) / 18\n",
    "a"
   ]
  }
 ],
 "metadata": {
  "kernelspec": {
   "display_name": "vsc",
   "language": "python",
   "name": "python3"
  },
  "language_info": {
   "codemirror_mode": {
    "name": "ipython",
    "version": 3
   },
   "file_extension": ".py",
   "mimetype": "text/x-python",
   "name": "python",
   "nbconvert_exporter": "python",
   "pygments_lexer": "ipython3",
   "version": "3.11.9"
  }
 },
 "nbformat": 4,
 "nbformat_minor": 5
}
