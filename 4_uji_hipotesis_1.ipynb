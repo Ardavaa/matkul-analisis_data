{
 "cells": [
  {
   "cell_type": "code",
   "execution_count": 1,
   "id": "5872e75b",
   "metadata": {},
   "outputs": [],
   "source": [
    "import numpy as np"
   ]
  },
  {
   "cell_type": "code",
   "execution_count": 3,
   "id": "0c2091b7",
   "metadata": {},
   "outputs": [
    {
     "data": {
      "text/plain": [
       "-2.8284271247461925"
      ]
     },
     "execution_count": 3,
     "metadata": {},
     "output_type": "execute_result"
    }
   ],
   "source": [
    "(7.8-8)/(0.5/np.sqrt(50))"
   ]
  },
  {
   "cell_type": "code",
   "execution_count": 4,
   "id": "77498394",
   "metadata": {},
   "outputs": [
    {
     "name": "stdout",
     "output_type": "stream",
     "text": [
      "Rata-rata: 2.573333333333333\n"
     ]
    }
   ],
   "source": [
    "import numpy as np\n",
    "\n",
    "data = [6.1, -8.4, 1, 2, 0.7, 2.9, 1.8, 3, 5.1, 3.6, 7, 3, 9.3, 7.5, -6]\n",
    "average = np.mean(data)\n",
    "print(f\"Rata-rata: {average}\")"
   ]
  },
  {
   "cell_type": "code",
   "execution_count": null,
   "id": "9d98a50f",
   "metadata": {},
   "outputs": [],
   "source": []
  }
 ],
 "metadata": {
  "kernelspec": {
   "display_name": "vsc",
   "language": "python",
   "name": "python3"
  },
  "language_info": {
   "codemirror_mode": {
    "name": "ipython",
    "version": 3
   },
   "file_extension": ".py",
   "mimetype": "text/x-python",
   "name": "python",
   "nbconvert_exporter": "python",
   "pygments_lexer": "ipython3",
   "version": "3.11.9"
  }
 },
 "nbformat": 4,
 "nbformat_minor": 5
}
