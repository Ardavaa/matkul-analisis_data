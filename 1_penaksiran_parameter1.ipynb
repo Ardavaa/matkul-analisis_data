{
 "cells": [
  {
   "cell_type": "markdown",
   "id": "497641bd",
   "metadata": {},
   "source": [
    "## Penaksiran Parameter untuk 1 populasi"
   ]
  },
  {
   "cell_type": "code",
   "execution_count": 3,
   "id": "d3c461a0",
   "metadata": {},
   "outputs": [],
   "source": [
    "from scipy.stats import norm, t\n",
    "import numpy as np"
   ]
  },
  {
   "cell_type": "markdown",
   "id": "d794e9fa",
   "metadata": {},
   "source": [
    "### Selang kepercayaan untuk u, \\sigma diketahui"
   ]
  },
  {
   "cell_type": "markdown",
   "id": "33fde09b",
   "metadata": {},
   "source": [
    "Contoh 1 : Rataan nilai matematika dari 36 orang mahasiswa sarjana  adalah 2.6.  \n",
    "Hitung selang kepercayaan 95% dan 99% untuk rataan nilai matematika semua \n",
    "mahasiswa tingkat sarjana. Anggap bahwa simpangan baku populasinya 0.3"
   ]
  },
  {
   "cell_type": "code",
   "execution_count": 4,
   "id": "f9978da5",
   "metadata": {},
   "outputs": [
    {
     "name": "stdout",
     "output_type": "stream",
     "text": [
      "Selang kepercayaan 95%: 2.5020018007729976 < u < 2.6979981992270026\n"
     ]
    }
   ],
   "source": [
    "# 95% for confidence interval\n",
    "confidence_interval = 0.95\n",
    "alpha = 1-confidence_interval\n",
    "x = 2.6\n",
    "std = 0.3\n",
    "n = 36\n",
    "\n",
    "# nilai z-score dari tabel normal\n",
    "z_score = norm.ppf(1-alpha/2) # Z_alpha/2\n",
    "\n",
    "result_lower = x - z_score * (0.3/np.sqrt(n))\n",
    "result_upper = x + z_score * (0.3/np.sqrt(n))\n",
    "\n",
    "print(f'Selang kepercayaan {int(confidence_interval*100)}%: {result_lower} < u < {result_upper}')"
   ]
  },
  {
   "cell_type": "code",
   "execution_count": 5,
   "id": "add648ec",
   "metadata": {},
   "outputs": [
    {
     "name": "stdout",
     "output_type": "stream",
     "text": [
      "Selang kepercayaan 99%: 2.471208534822555 < u < 2.728791465177445\n"
     ]
    }
   ],
   "source": [
    "# 99% for confidence interval\n",
    "confidence_interval = 0.99\n",
    "alpha = 1-confidence_interval\n",
    "x = 2.6\n",
    "std = 0.3\n",
    "n = 36\n",
    "\n",
    "z_score = norm.ppf(1-alpha/2) # Z_alpha/2\n",
    "\n",
    "result_lower = x - z_score * (0.3/np.sqrt(n))\n",
    "result_upper = x + z_score * (0.3/np.sqrt(n))\n",
    "\n",
    "print(f'Selang kepercayaan {int(confidence_interval*100)}%: {result_lower} < u < {result_upper}')"
   ]
  },
  {
   "cell_type": "markdown",
   "id": "1c5ddc08",
   "metadata": {},
   "source": [
    "### Selang kepercayaan untuk u, \\sigma tidak diketahui"
   ]
  },
  {
   "cell_type": "markdown",
   "id": "1c9ba984",
   "metadata": {},
   "source": [
    "Contoh 1:\n",
    "Tujuh botol yang mirip masing-masing berisi asam sulfat  9.8 , 10.2, 10.4 , 9.8, 10.0, 10.2, dan 9.6 liter . Carilah selang kepercayaan 95% untuk rataan isi \n",
    "botol semacam ini jika distribusinya dianggap hamper normal"
   ]
  },
  {
   "cell_type": "code",
   "execution_count": 6,
   "id": "85e8f00c",
   "metadata": {},
   "outputs": [
    {
     "name": "stdout",
     "output_type": "stream",
     "text": [
      "Standar deviasi: 0.28284271247461884\n",
      "Hasil T_score 2.4469118511449692\n",
      "Selang kepercayaan 95%: 9.738414119925107 < u < 10.261585880074893\n"
     ]
    }
   ],
   "source": [
    "data = [9.8, 10.2, 10.4, 9.8, 10.0, 10.2, 9.6]\n",
    "\n",
    "n = len(data) # banyak data\n",
    "confidence_interval = 0.95\n",
    "alpha = 1 - confidence_interval\n",
    "derajat_kebebasan = len(data) - 1 # derajat kebebasan --> n - 1\n",
    "\n",
    "X = np.mean(data) # rata-rata jadi 10\n",
    "S = np.std(data, ddof=1) # ddof= 1 --> n - 1\n",
    "\n",
    "t_score = t.ppf(1-alpha/2, derajat_kebebasan) # T_alpha/2\n",
    "\n",
    "result_lower = X - t_score * (S/np.sqrt(n))\n",
    "result_upper = X + t_score * (S/np.sqrt(n))\n",
    "\n",
    "print(f'Standar deviasi: {S}')\n",
    "print(f'Hasil T_score {t_score}')\n",
    "print(f'Selang kepercayaan {int(confidence_interval*100)}%: {result_lower} < u < {result_upper}')"
   ]
  },
  {
   "cell_type": "markdown",
   "id": "506debcf",
   "metadata": {},
   "source": [
    "### **Soal Latihan**:\n",
    "Diketahui nilai akhir MK statistika berdistribusi normal. Tentukan selang kepercayaan 95% dan 99% untuk rataan populasi μ, apabila diambil sampel nilai dari 16 orang mahasiswa sbb:\n",
    "\n",
    "| 47 | 50 | 53 | 65 | 33 | 67 | 66 | 50 |\n",
    "|----|----|----|----|----|----|----|----|\n",
    "| 73 | 54 | 48 | 47 | 47 | 67 | 68 | 60 |\n",
    "\n",
    "- Apabila simpangan baku populasi diketahui σ = 15.254.\n",
    "- Apabila simpangan baku populasi tidak diketahui. Nilai simpangan baku sampel perlu dihitung terlebih dahulu\n"
   ]
  },
  {
   "cell_type": "code",
   "execution_count": null,
   "id": "d97fccf6",
   "metadata": {},
   "outputs": [],
   "source": [
    "# Information from the given question\n",
    "data = np.array([47, 50, 53, 65, 33, 67, 66, 50, 73, 54, 48, 47, 47, 67, 68, 60])\n",
    "n = len(data) # banyak data"
   ]
  },
  {
   "cell_type": "markdown",
   "id": "2e662d76",
   "metadata": {},
   "source": [
    "**SOLUSI KASUS PERTANYAAN PERTAMA**"
   ]
  },
  {
   "cell_type": "markdown",
   "id": "e2b6abcc",
   "metadata": {},
   "source": [
    "Untuk simpangan baku 95%"
   ]
  },
  {
   "cell_type": "code",
   "execution_count": 18,
   "id": "91af90d4",
   "metadata": {},
   "outputs": [
    {
     "name": "stdout",
     "output_type": "stream",
     "text": [
      "Selang kepercayaan 95%: 48.463177344956506 < u < 63.411822655043494\n"
     ]
    }
   ],
   "source": [
    "sigma = 15.254 # dari soal\n",
    "confidence_interval = 0.95\n",
    "alpha = 1 - confidence_interval\n",
    "\n",
    "X = np.mean(data)\n",
    "z_score = norm.ppf(1-alpha / 2) # Z_alpha/2\n",
    "\n",
    "result_lower = X - z_score * (sigma/np.sqrt(n))\n",
    "result_upper = X + z_score * (sigma/np.sqrt(n))\n",
    "\n",
    "print(f'Selang kepercayaan {int(confidence_interval*100)}%: {result_lower} < u < {result_upper}')"
   ]
  },
  {
   "cell_type": "markdown",
   "id": "f8e90b5f",
   "metadata": {},
   "source": [
    "Untuk simpangan baku 99%"
   ]
  },
  {
   "cell_type": "code",
   "execution_count": 19,
   "id": "f2769f24",
   "metadata": {},
   "outputs": [
    {
     "name": "stdout",
     "output_type": "stream",
     "text": [
      "Selang kepercayaan 99%: 46.11457495091627 < u < 65.76042504908374\n"
     ]
    }
   ],
   "source": [
    "sigma = 15.254 # dari soal\n",
    "confidence_interval = 0.99\n",
    "alpha = 1 - confidence_interval\n",
    "\n",
    "X = np.mean(data)\n",
    "z_score = norm.ppf(1-alpha / 2) # Z_alpha/2\n",
    "\n",
    "result_lower = X - z_score * (sigma/np.sqrt(n))\n",
    "result_upper = X + z_score * (sigma/np.sqrt(n))\n",
    "\n",
    "print(f'Selang kepercayaan {int(confidence_interval*100)}%: {result_lower} < u < {result_upper}')"
   ]
  },
  {
   "cell_type": "markdown",
   "id": "f30ccb5f",
   "metadata": {},
   "source": [
    "**SOLUSI KASUS PERTANYAAN KEDUA**"
   ]
  },
  {
   "cell_type": "markdown",
   "id": "0cf8497a",
   "metadata": {},
   "source": [
    "Untuk simpangan baku 95%"
   ]
  },
  {
   "cell_type": "code",
   "execution_count": null,
   "id": "1c1dfc8e",
   "metadata": {},
   "outputs": [
    {
     "name": "stdout",
     "output_type": "stream",
     "text": [
      "Selang kepercayaan 95%: 50.11174775422471 < u < 61.76325224577529\n"
     ]
    }
   ],
   "source": [
    "confidence_interval = 0.95\n",
    "alpha = 1 - confidence_interval\n",
    "\n",
    "derajat_kebebasan = n - 1\n",
    "\n",
    "# standar deviasi sampel\n",
    "S = np.std(data, ddof=1) # n - ddof (sesuaiin sama derajat kebebasan)\n",
    "\n",
    "# rata-rata\n",
    "X = np.mean(data)\n",
    "\n",
    "# nilai t\n",
    "t_score = t.ppf(1-alpha/2, derajat_kebebasan)\n",
    "\n",
    "result_lower = X - t_score * (S/np.sqrt(n))\n",
    "result_upper = X + t_score * (S/np.sqrt(n))\n",
    "\n",
    "\n",
    "print(f'Selang kepercayaan {int(confidence_interval*100)}%: {result_lower} < u < {result_upper}')"
   ]
  },
  {
   "cell_type": "code",
   "execution_count": 21,
   "id": "1ced4cb0",
   "metadata": {},
   "outputs": [
    {
     "name": "stdout",
     "output_type": "stream",
     "text": [
      "Selang kepercayaan 99%: 47.88344156151211 < u < 63.99155843848789\n"
     ]
    }
   ],
   "source": [
    "confidence_interval = 0.99\n",
    "alpha = 1 - confidence_interval\n",
    "\n",
    "derajat_kebebasan = n - 1\n",
    "\n",
    "# standar deviasi sampel\n",
    "S = np.std(data, ddof=1) # n - ddof (sesuaiin sama derajat kebebasan)\n",
    "\n",
    "# rata-rata\n",
    "X = np.mean(data)\n",
    "\n",
    "# nilai t\n",
    "t_score = t.ppf(1-alpha/2, derajat_kebebasan)\n",
    "\n",
    "result_lower = X - t_score * (S/np.sqrt(n))\n",
    "result_upper = X + t_score * (S/np.sqrt(n))\n",
    "\n",
    "\n",
    "print(f'Selang kepercayaan {int(confidence_interval*100)}%: {result_lower} < u < {result_upper}')"
   ]
  }
 ],
 "metadata": {
  "kernelspec": {
   "display_name": "vsc",
   "language": "python",
   "name": "python3"
  },
  "language_info": {
   "codemirror_mode": {
    "name": "ipython",
    "version": 3
   },
   "file_extension": ".py",
   "mimetype": "text/x-python",
   "name": "python",
   "nbconvert_exporter": "python",
   "pygments_lexer": "ipython3",
   "version": "3.11.9"
  }
 },
 "nbformat": 4,
 "nbformat_minor": 5
}
